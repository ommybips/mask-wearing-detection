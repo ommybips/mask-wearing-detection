{
 "cells": [
  {
   "cell_type": "code",
   "execution_count": null,
   "id": "1ff81264",
   "metadata": {
    "scrolled": true
   },
   "outputs": [],
   "source": [
    "import cv2\n",
    "import tensorflow as tf\n",
    "from tensorflow import keras\n",
    "from PIL import Image"
   ]
  },
  {
   "cell_type": "code",
   "execution_count": null,
   "id": "b7deae12",
   "metadata": {},
   "outputs": [],
   "source": [
    "print(tf.__version__)"
   ]
  },
  {
   "cell_type": "code",
   "execution_count": 2,
   "id": "29771e43",
   "metadata": {},
   "outputs": [],
   "source": [
    "import matplotlib.pyplot as plt"
   ]
  },
  {
   "cell_type": "code",
   "execution_count": 3,
   "id": "00b82584",
   "metadata": {},
   "outputs": [],
   "source": [
    "image = r'test_photo.jpg'\n",
    "face_cascade = \"haarcascade_frontalface_default.xml\""
   ]
  },
  {
   "cell_type": "code",
   "execution_count": 4,
   "id": "3c73314b",
   "metadata": {},
   "outputs": [],
   "source": [
    "image_bgr = cv2.imread(image)\n",
    "image_bw = cv2.cvtColor(image_bgr, cv2.COLOR_BGR2GRAY)"
   ]
  },
  {
   "cell_type": "code",
   "execution_count": 5,
   "id": "2d848ffd",
   "metadata": {},
   "outputs": [],
   "source": [
    "face_classifier = cv2.CascadeClassifier(face_cascade)\n",
    "faces = face_classifier.detectMultiScale(image_bw)"
   ]
  },
  {
   "cell_type": "code",
   "execution_count": 6,
   "id": "e0272c3c",
   "metadata": {},
   "outputs": [
    {
     "name": "stdout",
     "output_type": "stream",
     "text": [
      "There are 1 faces found.\n"
     ]
    }
   ],
   "source": [
    "print(f'There are {len(faces)} faces found.')"
   ]
  },
  {
   "cell_type": "code",
   "execution_count": 7,
   "id": "94fa1447",
   "metadata": {},
   "outputs": [],
   "source": [
    "for face in faces:\n",
    "    x, y, w, h = face\n",
    "    cv2.rectangle(image_bgr, (x, y), (x+w, y+h), (0, 255, 0), 2)"
   ]
  },
  {
   "cell_type": "code",
   "execution_count": 8,
   "id": "92366a22",
   "metadata": {},
   "outputs": [
    {
     "data": {
      "text/plain": [
       "-1"
      ]
     },
     "execution_count": 8,
     "metadata": {},
     "output_type": "execute_result"
    }
   ],
   "source": [
    "cv2.imshow(\"Faces found\", image_bgr)\n",
    "cv2.waitKey(0) "
   ]
  },
  {
   "cell_type": "code",
   "execution_count": 9,
   "id": "d86f2752",
   "metadata": {},
   "outputs": [
    {
     "data": {
      "text/plain": [
       "<VideoCapture 0000023527A7C950>"
      ]
     },
     "execution_count": 9,
     "metadata": {},
     "output_type": "execute_result"
    }
   ],
   "source": [
    "webcam = cv2.VideoCapture(0)\n",
    "webcam"
   ]
  },
  {
   "cell_type": "code",
   "execution_count": 10,
   "id": "69045859",
   "metadata": {},
   "outputs": [],
   "source": [
    "success, image_bgr = webcam.read()\n",
    "#print(success, image_bgr)"
   ]
  },
  {
   "cell_type": "code",
   "execution_count": 11,
   "id": "17a36f6b",
   "metadata": {},
   "outputs": [],
   "source": [
    "face_cascade = \"haarcascade_frontalface_default.xml\""
   ]
  },
  {
   "cell_type": "code",
   "execution_count": 12,
   "id": "efd0f888",
   "metadata": {},
   "outputs": [],
   "source": [
    "# while True:\n",
    " \n",
    "#     success, image_bgr = webcam.read()\n",
    "#     image_org = image_bgr.copy()\n",
    "#     image_bw = cv2.cvtColor(image_bgr, cv2.COLOR_BGR2GRAY)\n",
    "\n",
    "#     face_classifier = cv2.CascadeClassifier(face_cascade)\n",
    "#     faces = face_classifier.detectMultiScale(image_bw)\n",
    "\n",
    "#     print(f'There are {len(faces)} faces found.')\n",
    "\n",
    "#     for face in faces:\n",
    "#         x, y, w, h = face\n",
    "#         cv2.rectangle(image_bgr, (x, y), (x+w, y+h), (0, 255, 0), 2)\n",
    "#         image_org[y:y+h,x:x+w]\n",
    "        \n",
    "#     cv2.imshow(\"Faces found\", image_bgr)\n",
    "#     cv2.waitKey(1) "
   ]
  },
  {
   "cell_type": "code",
   "execution_count": 13,
   "id": "a0621e56",
   "metadata": {},
   "outputs": [],
   "source": [
    "# count = 9999\n",
    "# while True:\n",
    " \n",
    "#     success, image_bgr = webcam.read()\n",
    "#     image_org = image_bgr.copy()\n",
    "#     image_bw = cv2.cvtColor(image_bgr, cv2.COLOR_BGR2GRAY)\n",
    "\n",
    "#     face_classifier = cv2.CascadeClassifier(face_cascade)\n",
    "#     faces = face_classifier.detectMultiScale(image_bw)\n",
    "\n",
    "#     print(f'There are {len(faces)} faces found.')\n",
    "\n",
    "#     for face in faces:\n",
    "#         x, y, w, h = face\n",
    "#         cv2.rectangle(image_bgr, (x, y), (x+w, y+h), (0, 255, 0), 2)\n",
    "#         cv2.imwrite(f'wearmask/wearmask_{count}.jpg',image_org[y:y+h,x:x+w])\n",
    "#         count += 1\n",
    "\n",
    "#     cv2.imshow(\"Faces found\", image_bgr)\n",
    "#     cv2.waitKey(1) "
   ]
  },
  {
   "cell_type": "code",
   "execution_count": 14,
   "id": "3a5776c4",
   "metadata": {},
   "outputs": [],
   "source": [
    "import tensorflow.keras\n",
    "from PIL import Image\n",
    "from PIL import ImageOps\n",
    "import numpy as np"
   ]
  },
  {
   "cell_type": "code",
   "execution_count": 15,
   "id": "57fc5fb1",
   "metadata": {},
   "outputs": [],
   "source": [
    "np.set_printoptions(suppress=True)"
   ]
  },
  {
   "cell_type": "code",
   "execution_count": 16,
   "id": "35a4ccae",
   "metadata": {},
   "outputs": [
    {
     "name": "stdout",
     "output_type": "stream",
     "text": [
      "WARNING:tensorflow:No training configuration found in the save file, so the model was *not* compiled. Compile it manually.\n"
     ]
    }
   ],
   "source": [
    "model = tensorflow.keras.models.load_model('keras_model.h5')"
   ]
  },
  {
   "cell_type": "code",
   "execution_count": 17,
   "id": "46766ce5",
   "metadata": {},
   "outputs": [],
   "source": [
    "data = np.ndarray(shape=(1, 224, 224, 3), dtype=np.float32)"
   ]
  },
  {
   "cell_type": "code",
   "execution_count": 18,
   "id": "216fc118",
   "metadata": {
    "scrolled": true
   },
   "outputs": [
    {
     "name": "stdout",
     "output_type": "stream",
     "text": [
      "C:\\Users\\Admin\\Senior Project\\test_photo1.jpg\n",
      "['a.jpg', 'haarcascade_frontalface_default.xml', 'keras_model.h5', 'labels.txt', 'mask detect.ipynb', 'test2_1080.jpg', 'test_photo.jpg', 'test_photo1.jpg', 'test_photo1080.jpg', 'test_photo360.jpg', 'test_photo720.jpg']\n"
     ]
    }
   ],
   "source": [
    "import os\n",
    "from PIL import Image\n",
    "\n",
    "curDir = os.getcwd()\n",
    "fileName = \"test_photo.jpg\"\n",
    "fn = curDir + \"\\\\\" + fileName\n",
    "print(fn)\n",
    "\n",
    "from os import listdir\n",
    "from os.path import isfile, join\n",
    "\n",
    "onlyfiles = [f for f in listdir(curDir) if isfile(join(curDir, f))]\n",
    "print(onlyfiles)\n",
    "\n",
    "image = Image.open(fn)\n",
    "# image.show()"
   ]
  },
  {
   "cell_type": "code",
   "execution_count": 19,
   "id": "94e64f7f",
   "metadata": {},
   "outputs": [],
   "source": [
    "size = (224, 224)\n",
    "image = ImageOps.fit(image, size, Image.ANTIALIAS)"
   ]
  },
  {
   "cell_type": "code",
   "execution_count": 20,
   "id": "a3a1bdfd",
   "metadata": {},
   "outputs": [],
   "source": [
    "image_array = np.asarray(image)"
   ]
  },
  {
   "cell_type": "code",
   "execution_count": 21,
   "id": "6371bdda",
   "metadata": {},
   "outputs": [],
   "source": [
    "image.show()"
   ]
  },
  {
   "cell_type": "code",
   "execution_count": 22,
   "id": "cb261e97",
   "metadata": {},
   "outputs": [],
   "source": [
    "normalized_image_array = (image_array.astype(np.float32) / 127.0) - 1"
   ]
  },
  {
   "cell_type": "code",
   "execution_count": 34,
   "id": "4c6d8a0e",
   "metadata": {},
   "outputs": [
    {
     "name": "stdout",
     "output_type": "stream",
     "text": [
      "[[0.8566341  0.14336589]]\n"
     ]
    }
   ],
   "source": [
    "prediction = model.predict(data)\n",
    "print(prediction)"
   ]
  },
  {
   "cell_type": "code",
   "execution_count": 35,
   "id": "515f3fd4",
   "metadata": {},
   "outputs": [],
   "source": [
    "webcam = cv2.VideoCapture(0)\n",
    "success, image_bgr = webcam.read()"
   ]
  },
  {
   "cell_type": "code",
   "execution_count": 36,
   "id": "c8e14bc5",
   "metadata": {},
   "outputs": [],
   "source": [
    "image_rgb = cv2.cvtColor(image_bgr,cv2.COLOR_BGR2RGB)"
   ]
  },
  {
   "cell_type": "code",
   "execution_count": 37,
   "id": "b5d0d6cd",
   "metadata": {},
   "outputs": [],
   "source": [
    "cface_rgb = Image.fromarray(image_rgb[y:y+h,x:x+w])"
   ]
  },
  {
   "cell_type": "code",
   "execution_count": 45,
   "id": "915bbcf5",
   "metadata": {},
   "outputs": [
    {
     "name": "stdout",
     "output_type": "stream",
     "text": [
      "WARNING:tensorflow:No training configuration found in the save file, so the model was *not* compiled. Compile it manually.\n"
     ]
    }
   ],
   "source": [
    "face_classifier = cv2.CascadeClassifier(face_cascade)\n",
    "np.set_printoptions(suppress=True)\n",
    "model = tensorflow.keras.models.load_model('keras_model.h5')\n",
    "size = (224, 224)"
   ]
  },
  {
   "cell_type": "code",
   "execution_count": 39,
   "id": "517f9910",
   "metadata": {
    "scrolled": false
   },
   "outputs": [],
   "source": [
    "# while True:\n",
    "#     success, image_bgr = webcam.read()\n",
    "#     image_org = image_bgr.copy()\n",
    "#     image_bw = cv2.cvtColor(image_bgr, cv2.COLOR_BGR2GRAY)\n",
    "#     image_rgb = cv2.cvtColor(image_bgr,cv2.COLOR_BGR2RGB)\n",
    "#     faces = face_classifier.detectMultiScale(image_bw)\n",
    "#     for face in faces:\n",
    "#         x, y, w, h = face\n",
    "#         cface_rgb = Image.fromarray(image_rgb[y:y+h,x:x+w])\n",
    "#         data = np.ndarray(shape=(1, 224, 224, 3), dtype=np.float32)\n",
    "#         image = cface_rgb\n",
    "#         image = ImageOps.fit(image, size, Image.ANTIALIAS)\n",
    "#         image_array = np.asarray(image)\n",
    "#         normalized_image_array = (image_array.astype(np.float32) / 127.0) - 1\n",
    "#         data[0] = normalized_image_array\n",
    "#         prediction = model.predict(data)\n",
    "#         print(prediction)\n",
    "#         cv2.rectangle(image_bgr, (x, y), (x+w, y+h), (0, 255, 0), 2)\n",
    "#     cv2.imshow(\"Mask Detection\", image_bgr)\n",
    "#     cv2.waitKey(1) "
   ]
  },
  {
   "cell_type": "code",
   "execution_count": 40,
   "id": "2cf65231",
   "metadata": {},
   "outputs": [
    {
     "name": "stdout",
     "output_type": "stream",
     "text": [
      "[[0.999961   0.00003902]]\n",
      "[[0.99990976 0.00009021]]\n",
      "[[0.999907   0.00009297]]\n",
      "[[0.9999573  0.00004264]]\n",
      "[[0.9999331  0.00006682]]\n",
      "[[0.9999335  0.00006657]]\n",
      "[[0.9999411  0.00005884]]\n",
      "[[0.9999193  0.00008074]]\n",
      "[[0.99995494 0.00004508]]\n",
      "[[0.9956599  0.00434012]]\n",
      "[[0.999959   0.00004096]]\n",
      "[[0.9999361  0.00006389]]\n",
      "[[0.99993396 0.00006603]]\n",
      "[[0.99991345 0.00008654]]\n",
      "[[0.9998933  0.00010673]]\n",
      "[[0.9999372  0.00006278]]\n",
      "[[0.99995077 0.0000492 ]]\n",
      "[[0.99996316 0.00003688]]\n",
      "[[0.9999366  0.00006342]]\n",
      "[[0.9999449 0.0000551]]\n",
      "[[0.9999578  0.00004224]]\n",
      "[[0.99990225 0.00009774]]\n",
      "[[0.9999026  0.00009744]]\n",
      "[[0.9999596  0.00004047]]\n",
      "[[0.99997365 0.00002634]]\n",
      "[[0.9999219  0.00007806]]\n",
      "[[0.99989605 0.00010389]]\n",
      "[[0.9998572  0.00014284]]\n",
      "[[0.99987936 0.00012068]]\n",
      "[[0.9999492  0.00005079]]\n",
      "[[0.99993277 0.00006728]]\n",
      "[[0.99992776 0.00007227]]\n",
      "[[0.99986374 0.00013626]]\n",
      "[[0.9999058  0.00009414]]\n",
      "[[0.999954   0.00004605]]\n",
      "[[0.99993527 0.00006473]]\n",
      "[[0.99991894 0.00008111]]\n",
      "[[0.9999093  0.00009067]]\n",
      "[[0.9998995  0.00010044]]\n",
      "[[0.99982953 0.00017049]]\n",
      "[[0.9999002  0.00009974]]\n",
      "[[0.9997596  0.00024044]]\n",
      "[[0.999892   0.00010795]]\n",
      "[[0.9998203  0.00017975]]\n",
      "[[0.99548763 0.00451231]]\n",
      "[[0.99963725 0.00036269]]\n",
      "[[0.97886294 0.02113702]]\n",
      "[[0.99992347 0.00007654]]\n",
      "[[0.9996612  0.00033885]]\n",
      "[[0.9998778  0.00012219]]\n"
     ]
    },
    {
     "ename": "KeyboardInterrupt",
     "evalue": "",
     "output_type": "error",
     "traceback": [
      "\u001b[1;31m---------------------------------------------------------------------------\u001b[0m",
      "\u001b[1;31mKeyboardInterrupt\u001b[0m                         Traceback (most recent call last)",
      "\u001b[1;32m~\\AppData\\Local\\Temp/ipykernel_17288/3347948877.py\u001b[0m in \u001b[0;36m<module>\u001b[1;34m\u001b[0m\n\u001b[0;32m     30\u001b[0m \u001b[1;33m\u001b[0m\u001b[0m\n\u001b[0;32m     31\u001b[0m     \u001b[0mcv2\u001b[0m\u001b[1;33m.\u001b[0m\u001b[0mimshow\u001b[0m\u001b[1;33m(\u001b[0m\u001b[1;34m\"Mask Detection\"\u001b[0m\u001b[1;33m,\u001b[0m \u001b[0mimage_bgr\u001b[0m\u001b[1;33m)\u001b[0m\u001b[1;33m\u001b[0m\u001b[1;33m\u001b[0m\u001b[0m\n\u001b[1;32m---> 32\u001b[1;33m     \u001b[0mcv2\u001b[0m\u001b[1;33m.\u001b[0m\u001b[0mwaitKey\u001b[0m\u001b[1;33m(\u001b[0m\u001b[1;36m1\u001b[0m\u001b[1;33m)\u001b[0m\u001b[1;33m\u001b[0m\u001b[1;33m\u001b[0m\u001b[0m\n\u001b[0m",
      "\u001b[1;31mKeyboardInterrupt\u001b[0m: "
     ]
    }
   ],
   "source": [
    "count = 0\n",
    "while True:\n",
    "    success, image_bgr = webcam.read()\n",
    "    image_org = image_bgr.copy()\n",
    "    image_bw = cv2.cvtColor(image_bgr, cv2.COLOR_BGR2GRAY)\n",
    "    image_rgb = cv2.cvtColor(image_bgr,cv2.COLOR_BGR2RGB)\n",
    "    faces = face_classifier.detectMultiScale(image_bw)\n",
    "    for face in faces:\n",
    "        x, y, w, h = face\n",
    "        cface_rgb = Image.fromarray(image_rgb[y:y+h,x:x+w])\n",
    "        data = np.ndarray(shape=(1, 224, 224, 3), dtype=np.float32)\n",
    "        image = cface_rgb\n",
    "        image = ImageOps.fit(image, size, Image.ANTIALIAS)\n",
    "        image_array = np.asarray(image)\n",
    "        normalized_image_array = (image_array.astype(np.float32) / 127.0) - 1\n",
    "        data[0] = normalized_image_array\n",
    "        prediction = model.predict(data)\n",
    "        print(prediction)\n",
    "        if prediction[0][1] < prediction[0][0]:\n",
    "            cv2.putText(image_bgr,'Non-Masked',(x,y-7),cv2.FONT_HERSHEY_SIMPLEX,0.5,(0,0,255),2)\n",
    "            cv2.rectangle(image_bgr, (x, y), (x+w, y+h), (0,0,255), 2)\n",
    "            cv2.imwrite(f'nomask/nomask_{count}.jpg',image_org[y:y+h,x:x+w])\n",
    "            count += 1\n",
    "            \n",
    "        else:\n",
    "            cv2.putText(image_bgr,'Masked',(x,y-7),cv2.FONT_HERSHEY_SIMPLEX,0.5,(0,255,0),2)\n",
    "            cv2.rectangle(image_bgr, (x, y), (x+w, y+h), (0, 255, 0), 2)\n",
    "            cv2.imwrite(f'wearmask/wearmask_{count}.jpg',image_org[y:y+h,x:x+w])\n",
    "            count += 1\n",
    "            \n",
    "    cv2.imshow(\"Mask Detection\", image_bgr)\n",
    "    cv2.waitKey(1) "
   ]
  },
  {
   "cell_type": "code",
   "execution_count": null,
   "id": "f217bf55",
   "metadata": {},
   "outputs": [],
   "source": []
  }
 ],
 "metadata": {
  "kernelspec": {
   "display_name": "Python 3 (ipykernel)",
   "language": "python",
   "name": "python3"
  },
  "language_info": {
   "codemirror_mode": {
    "name": "ipython",
    "version": 3
   },
   "file_extension": ".py",
   "mimetype": "text/x-python",
   "name": "python",
   "nbconvert_exporter": "python",
   "pygments_lexer": "ipython3",
   "version": "3.9.7"
  }
 },
 "nbformat": 4,
 "nbformat_minor": 5
}
